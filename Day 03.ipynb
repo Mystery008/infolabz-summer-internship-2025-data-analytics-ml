{
 "cells": [
  {
   "cell_type": "markdown",
   "id": "5fb596b2",
   "metadata": {},
   "source": [
    "## Day 03 : 4th July 2025"
   ]
  },
  {
   "cell_type": "markdown",
   "id": "556fccdd",
   "metadata": {},
   "source": [
    "#### Modify Column Index / Row Index"
   ]
  },
  {
   "cell_type": "code",
   "execution_count": 1,
   "id": "3f32b904",
   "metadata": {
    "scrolled": true
   },
   "outputs": [
    {
     "name": "stdout",
     "output_type": "stream",
     "text": [
      "Player Scores DataFrame:\n",
      "   Rohit  Virat\n",
      "1     75     87\n",
      "2     12     45\n",
      "3    124     92\n",
      "\n",
      "Game Performance DataFrame:\n",
      "    Name     Type  Scores\n",
      "1  Rohit  Batsman      50\n",
      "2  Kohli  Batsman      75\n",
      "\n",
      "Employee Salary DataFrame (2022–2024):\n",
      "         2022   2023   2024\n",
      "Ramesh   8000  10000  18000\n",
      "Mahesh  15000  18000  25000\n",
      "\n",
      "Employee Salary DataFrame (including 2025 with 30% increment):\n",
      "         2022   2023   2024     2025\n",
      "Ramesh   8000  10000  18000  23400.0\n",
      "Mahesh  15000  18000  25000  32500.0\n"
     ]
    }
   ],
   "source": [
    "import pandas as pd\n",
    "import numpy as np\n",
    "\n",
    "# Creating a DataFrame with performance scores of Rohit and Virat\n",
    "impdata ={\"Rohit\": [75,12,124], \"Virat\": [87,45,92]}\n",
    "impdata = pd.DataFrame(impdata, index=[1,2,3]) #customized index\n",
    "print(\"Player Scores DataFrame:\")\n",
    "print(impdata)\n",
    "print()\n",
    "\n",
    "# Creating a DataFrame with player roles and scores in a particular game\n",
    "game = pd.DataFrame([[\"Rohit\",\"Batsman\",50],[\"Kohli\",\"Batsman\",75]],\n",
    "                    columns=[\"Name\", \"Type\",\"Scores\"], index =[1,2])\n",
    "#customized index starts with 1\n",
    "print(\"Game Performance DataFrame:\")\n",
    "print(game)\n",
    "print()\n",
    "\n",
    "# Creating a NumPy array of salaries over years for two employees\n",
    "empdata = np.array([[8000,10000,18000],\n",
    "                    [15000,18000,25000]])\n",
    "\n",
    "# Converting NumPy array into a DataFrame with proper column and row labels\n",
    "pdempdata = pd.DataFrame(empdata, \n",
    "                         columns=[2022,2023,2024], \n",
    "                         index=[\"Ramesh\",\"Mahesh\"])\n",
    "print(\"Employee Salary DataFrame (2022–2024):\")\n",
    "print(pdempdata)\n",
    "print()\n",
    "\n",
    "# Adding a new column for 2025 with a 30% increment over 2024 salary\n",
    "# pdempdata[2025]= (pdempdata[2024]*0.3) + pdempdata[2024]\n",
    "pdempdata[2025] = pdempdata[2024] * 1.30\n",
    "print(\"Employee Salary DataFrame (including 2025 with 30% increment):\")\n",
    "print(pdempdata)"
   ]
  },
  {
   "cell_type": "markdown",
   "id": "88184b87",
   "metadata": {},
   "source": [
    "####  📌 .loc[] vs .iloc[] in Pandas\n",
    "\n",
    ".loc[] – Label-based indexing\n",
    "- Used to access rows and columns by label names.\n",
    "- Includes both start and end labels when slicing.\n",
    "- <b> Syntax: df.loc[row_label, column_label] </b>\n",
    "\n",
    ".iloc[] – Position-based indexing\n",
    "- Used to access rows and columns by integer positions (like Python lists).\n",
    "- End index is exclusive when slicing.\n",
    "- <b> Syntax: df.iloc[row_position, column_position] </b>"
   ]
  },
  {
   "cell_type": "code",
   "execution_count": 2,
   "id": "4eeb04a8",
   "metadata": {},
   "outputs": [
    {
     "name": "stdout",
     "output_type": "stream",
     "text": [
      "   Unnamed: 0   id symbol    name  nameid  rank  price_usd  \\\n",
      "2           2  518   USDT  Tether  tether     3   0.999977   \n",
      "\n",
      "   percent_change_24h  percent_change_1h  percent_change_7d  price_btc  \\\n",
      "2               -0.06               0.04              -0.05   0.000009   \n",
      "\n",
      "   market_cap_usd      volume24     volume24a       csupply       tsupply  \\\n",
      "2    1.393266e+11  4.141934e+10  2.763040e+10  1.393299e+11  1.415730e+11   \n",
      "\n",
      "   msupply  \n",
      "2      NaN  \n"
     ]
    }
   ],
   "source": [
    "# Reading data from a CSV file named \"Livecoinprice.csv\" into a DataFrame\n",
    "filedata = pd.read_csv(\"Livecoinprice.csv\")\n",
    "\n",
    "\n",
    "# Printing the row at index 2 from the DataFrame using .loc (label-based indexing)\n",
    "# Note: .loc[[2]] returns the row where the index label is 2 (not necessarily the third row unless index is default)\n",
    "print(filedata.loc[[2]])"
   ]
  },
  {
   "cell_type": "code",
   "execution_count": 3,
   "id": "f70e806f",
   "metadata": {},
   "outputs": [
    {
     "name": "stdout",
     "output_type": "stream",
     "text": [
      "   CRICKET  ROHIT  KOHLI  DHONI\n",
      "0        1     17     70     10\n",
      "1        2     81     12      7\n",
      "2        3     25     55     23\n",
      "3        4     34     36     37\n",
      "4        5     45     49    101\n",
      "5        6     25     80     45\n",
      "6        7     75     20     65\n",
      "<class 'pandas.core.frame.DataFrame'>\n",
      "\n",
      "0    70\n",
      "1    12\n",
      "2    55\n",
      "3    36\n",
      "4    49\n",
      "5    80\n",
      "6    20\n",
      "Name: KOHLI, dtype: int64\n",
      "\n",
      "37\n",
      "\n",
      "   CRICKET  ROHIT  KOHLI  DHONI\n",
      "2        3     25     55     23\n",
      "   CRICKET  ROHIT  KOHLI  DHONI\n",
      "2        3     25     55     23\n"
     ]
    }
   ],
   "source": [
    "filedata = pd.read_csv(\"mydata.xlsx - Sheet1.csv\")\n",
    "print(filedata)\n",
    "print(type(filedata))\n",
    "print()\n",
    "\n",
    "# Print Score of all matches of Kohli\n",
    "print(filedata[\"KOHLI\"])\n",
    "print()\n",
    "\n",
    "# Print 37\n",
    "# Specifica: Varname[Column][Row]\n",
    "print(filedata[\"DHONI\"][3])\n",
    "print()\n",
    "\n",
    "# Print Third Match Data\n",
    "print(filedata.loc[[2]])\n",
    "print(filedata.iloc[[2]])\n",
    "# As the default index starts with 0, 3rd Match is in index 2  \n",
    "# here label name and position both are 2 so both will print the same result  \n"
   ]
  },
  {
   "cell_type": "markdown",
   "id": "596e6c39",
   "metadata": {},
   "source": [
    "#### DATA FETCHING / ACCESS  FOR MACHINE LEARNING \n"
   ]
  },
  {
   "cell_type": "code",
   "execution_count": 4,
   "id": "c05d67eb",
   "metadata": {
    "scrolled": true
   },
   "outputs": [
    {
     "name": "stdout",
     "output_type": "stream",
     "text": [
      "   SRNO BRANCH    NAME  TOTAL  PERCENTAGE  PASSFAIL\n",
      "0     1     CE  RAMESH    210          90         1\n",
      "1     2     CE  SURESH    150          80         1\n",
      "2     3     IT  MAHESH    225          75         1\n",
      "3     4     IT  NARESH    180          60         1\n",
      "4     5     CE  JAYESH     90          30         0\n",
      "   SRNO BRANCH    NAME  TOTAL  PERCENTAGE  PASSFAIL\n",
      "0     1     EC   RATAN    150          50         1\n",
      "1     2     CE   JATAN    270          90         1\n",
      "2     3     IT  KATHAN    285          95         1\n",
      "3     4     EC   NAYAN    195          65         1\n",
      "4     5     IT   RAMAN    165          55         1\n"
     ]
    },
    {
     "data": {
      "text/html": [
       "<div>\n",
       "<style scoped>\n",
       "    .dataframe tbody tr th:only-of-type {\n",
       "        vertical-align: middle;\n",
       "    }\n",
       "\n",
       "    .dataframe tbody tr th {\n",
       "        vertical-align: top;\n",
       "    }\n",
       "\n",
       "    .dataframe thead th {\n",
       "        text-align: right;\n",
       "    }\n",
       "</style>\n",
       "<table border=\"1\" class=\"dataframe\">\n",
       "  <thead>\n",
       "    <tr style=\"text-align: right;\">\n",
       "      <th></th>\n",
       "      <th>SRNO</th>\n",
       "      <th>BRANCH</th>\n",
       "      <th>NAME</th>\n",
       "      <th>TOTAL</th>\n",
       "      <th>PERCENTAGE</th>\n",
       "      <th>PASSFAIL</th>\n",
       "    </tr>\n",
       "  </thead>\n",
       "  <tbody>\n",
       "    <tr>\n",
       "      <th>0</th>\n",
       "      <td>1</td>\n",
       "      <td>CE</td>\n",
       "      <td>RAMESH</td>\n",
       "      <td>210</td>\n",
       "      <td>90</td>\n",
       "      <td>1</td>\n",
       "    </tr>\n",
       "    <tr>\n",
       "      <th>1</th>\n",
       "      <td>2</td>\n",
       "      <td>CE</td>\n",
       "      <td>SURESH</td>\n",
       "      <td>150</td>\n",
       "      <td>80</td>\n",
       "      <td>1</td>\n",
       "    </tr>\n",
       "    <tr>\n",
       "      <th>2</th>\n",
       "      <td>3</td>\n",
       "      <td>IT</td>\n",
       "      <td>MAHESH</td>\n",
       "      <td>225</td>\n",
       "      <td>75</td>\n",
       "      <td>1</td>\n",
       "    </tr>\n",
       "    <tr>\n",
       "      <th>3</th>\n",
       "      <td>4</td>\n",
       "      <td>IT</td>\n",
       "      <td>NARESH</td>\n",
       "      <td>180</td>\n",
       "      <td>60</td>\n",
       "      <td>1</td>\n",
       "    </tr>\n",
       "    <tr>\n",
       "      <th>4</th>\n",
       "      <td>5</td>\n",
       "      <td>CE</td>\n",
       "      <td>JAYESH</td>\n",
       "      <td>90</td>\n",
       "      <td>30</td>\n",
       "      <td>0</td>\n",
       "    </tr>\n",
       "    <tr>\n",
       "      <th>0</th>\n",
       "      <td>1</td>\n",
       "      <td>EC</td>\n",
       "      <td>RATAN</td>\n",
       "      <td>150</td>\n",
       "      <td>50</td>\n",
       "      <td>1</td>\n",
       "    </tr>\n",
       "    <tr>\n",
       "      <th>1</th>\n",
       "      <td>2</td>\n",
       "      <td>CE</td>\n",
       "      <td>JATAN</td>\n",
       "      <td>270</td>\n",
       "      <td>90</td>\n",
       "      <td>1</td>\n",
       "    </tr>\n",
       "    <tr>\n",
       "      <th>2</th>\n",
       "      <td>3</td>\n",
       "      <td>IT</td>\n",
       "      <td>KATHAN</td>\n",
       "      <td>285</td>\n",
       "      <td>95</td>\n",
       "      <td>1</td>\n",
       "    </tr>\n",
       "    <tr>\n",
       "      <th>3</th>\n",
       "      <td>4</td>\n",
       "      <td>EC</td>\n",
       "      <td>NAYAN</td>\n",
       "      <td>195</td>\n",
       "      <td>65</td>\n",
       "      <td>1</td>\n",
       "    </tr>\n",
       "    <tr>\n",
       "      <th>4</th>\n",
       "      <td>5</td>\n",
       "      <td>IT</td>\n",
       "      <td>RAMAN</td>\n",
       "      <td>165</td>\n",
       "      <td>55</td>\n",
       "      <td>1</td>\n",
       "    </tr>\n",
       "  </tbody>\n",
       "</table>\n",
       "</div>"
      ],
      "text/plain": [
       "   SRNO BRANCH    NAME  TOTAL  PERCENTAGE  PASSFAIL\n",
       "0     1     CE  RAMESH    210          90         1\n",
       "1     2     CE  SURESH    150          80         1\n",
       "2     3     IT  MAHESH    225          75         1\n",
       "3     4     IT  NARESH    180          60         1\n",
       "4     5     CE  JAYESH     90          30         0\n",
       "0     1     EC   RATAN    150          50         1\n",
       "1     2     CE   JATAN    270          90         1\n",
       "2     3     IT  KATHAN    285          95         1\n",
       "3     4     EC   NAYAN    195          65         1\n",
       "4     5     IT   RAMAN    165          55         1"
      ]
     },
     "execution_count": 4,
     "metadata": {},
     "output_type": "execute_result"
    }
   ],
   "source": [
    "df1 = pd.read_csv(\"RESULT1 - Sheet1.csv\")\n",
    "print(df1)\n",
    "\n",
    "df2 = pd.read_csv(\"RESULT2 - Sheet1.csv\")\n",
    "print(df2)\n",
    "\n",
    "alldata = pd.concat([df1,df2])\n",
    "alldata"
   ]
  },
  {
   "cell_type": "code",
   "execution_count": 5,
   "id": "1cb95a64",
   "metadata": {},
   "outputs": [
    {
     "data": {
      "text/html": [
       "<div>\n",
       "<style scoped>\n",
       "    .dataframe tbody tr th:only-of-type {\n",
       "        vertical-align: middle;\n",
       "    }\n",
       "\n",
       "    .dataframe tbody tr th {\n",
       "        vertical-align: top;\n",
       "    }\n",
       "\n",
       "    .dataframe thead th {\n",
       "        text-align: right;\n",
       "    }\n",
       "</style>\n",
       "<table border=\"1\" class=\"dataframe\">\n",
       "  <thead>\n",
       "    <tr style=\"text-align: right;\">\n",
       "      <th></th>\n",
       "      <th>SRNO</th>\n",
       "      <th>BRANCH</th>\n",
       "      <th>NAME</th>\n",
       "      <th>TOTAL</th>\n",
       "      <th>PERCENTAGE</th>\n",
       "      <th>PASSFAIL</th>\n",
       "    </tr>\n",
       "  </thead>\n",
       "  <tbody>\n",
       "    <tr>\n",
       "      <th>0</th>\n",
       "      <td>1</td>\n",
       "      <td>CE</td>\n",
       "      <td>RAMESH</td>\n",
       "      <td>210</td>\n",
       "      <td>90</td>\n",
       "      <td>1</td>\n",
       "    </tr>\n",
       "    <tr>\n",
       "      <th>1</th>\n",
       "      <td>2</td>\n",
       "      <td>CE</td>\n",
       "      <td>SURESH</td>\n",
       "      <td>150</td>\n",
       "      <td>80</td>\n",
       "      <td>1</td>\n",
       "    </tr>\n",
       "    <tr>\n",
       "      <th>2</th>\n",
       "      <td>3</td>\n",
       "      <td>IT</td>\n",
       "      <td>MAHESH</td>\n",
       "      <td>225</td>\n",
       "      <td>75</td>\n",
       "      <td>1</td>\n",
       "    </tr>\n",
       "  </tbody>\n",
       "</table>\n",
       "</div>"
      ],
      "text/plain": [
       "   SRNO BRANCH    NAME  TOTAL  PERCENTAGE  PASSFAIL\n",
       "0     1     CE  RAMESH    210          90         1\n",
       "1     2     CE  SURESH    150          80         1\n",
       "2     3     IT  MAHESH    225          75         1"
      ]
     },
     "execution_count": 5,
     "metadata": {},
     "output_type": "execute_result"
    }
   ],
   "source": [
    "alldata.head(3)"
   ]
  },
  {
   "cell_type": "code",
   "execution_count": 6,
   "id": "074b0fb5",
   "metadata": {
    "scrolled": true
   },
   "outputs": [
    {
     "name": "stdout",
     "output_type": "stream",
     "text": [
      "   SRNO BRANCH    NAME  TOTAL  PERCENTAGE  PASSFAIL\n",
      "2     3     IT  KATHAN    285          95         1\n",
      "1     2     CE   JATAN    270          90         1\n",
      "2     3     IT  MAHESH    225          75         1\n"
     ]
    }
   ],
   "source": [
    "#sort data based on Total\n",
    "\n",
    "print(alldata.sort_values(['TOTAL'], ascending = False).head(3))"
   ]
  },
  {
   "cell_type": "code",
   "execution_count": 7,
   "id": "71da6ce6",
   "metadata": {
    "scrolled": true
   },
   "outputs": [
    {
     "name": "stdout",
     "output_type": "stream",
     "text": [
      "   SRNO BRANCH    NAME  TOTAL  PERCENTAGE  PASSFAIL\n",
      "1     2     CE  SURESH    150          80         1\n",
      "0     1     EC   RATAN    150          50         1\n",
      "4     5     CE  JAYESH     90          30         0\n"
     ]
    }
   ],
   "source": [
    "print(alldata.sort_values(['TOTAL'], ascending = False).tail(3))"
   ]
  },
  {
   "cell_type": "code",
   "execution_count": 8,
   "id": "9ef9530c",
   "metadata": {},
   "outputs": [
    {
     "data": {
      "text/plain": [
       "SRNO           int64\n",
       "BRANCH        object\n",
       "NAME          object\n",
       "TOTAL          int64\n",
       "PERCENTAGE     int64\n",
       "PASSFAIL       int64\n",
       "dtype: object"
      ]
     },
     "execution_count": 8,
     "metadata": {},
     "output_type": "execute_result"
    }
   ],
   "source": [
    "df1.dtypes"
   ]
  },
  {
   "cell_type": "markdown",
   "id": "5b3961c2",
   "metadata": {},
   "source": [
    "### Home Work"
   ]
  },
  {
   "cell_type": "markdown",
   "id": "cbd58874",
   "metadata": {},
   "source": [
    "#### TASK : Add Column Name INR in Coin Csv exported yesterday. \n"
   ]
  },
  {
   "cell_type": "code",
   "execution_count": 9,
   "id": "19260fbb",
   "metadata": {},
   "outputs": [
    {
     "name": "stdout",
     "output_type": "stream",
     "text": [
      "USD -> INR =  85.9281\n"
     ]
    },
    {
     "data": {
      "text/html": [
       "<div>\n",
       "<style scoped>\n",
       "    .dataframe tbody tr th:only-of-type {\n",
       "        vertical-align: middle;\n",
       "    }\n",
       "\n",
       "    .dataframe tbody tr th {\n",
       "        vertical-align: top;\n",
       "    }\n",
       "\n",
       "    .dataframe thead th {\n",
       "        text-align: right;\n",
       "    }\n",
       "</style>\n",
       "<table border=\"1\" class=\"dataframe\">\n",
       "  <thead>\n",
       "    <tr style=\"text-align: right;\">\n",
       "      <th></th>\n",
       "      <th>Unnamed: 0</th>\n",
       "      <th>id</th>\n",
       "      <th>symbol</th>\n",
       "      <th>name</th>\n",
       "      <th>nameid</th>\n",
       "      <th>rank</th>\n",
       "      <th>price_usd</th>\n",
       "      <th>percent_change_24h</th>\n",
       "      <th>percent_change_1h</th>\n",
       "      <th>percent_change_7d</th>\n",
       "      <th>price_btc</th>\n",
       "      <th>market_cap_usd</th>\n",
       "      <th>volume24</th>\n",
       "      <th>volume24a</th>\n",
       "      <th>csupply</th>\n",
       "      <th>tsupply</th>\n",
       "      <th>msupply</th>\n",
       "      <th>INR</th>\n",
       "    </tr>\n",
       "  </thead>\n",
       "  <tbody>\n",
       "    <tr>\n",
       "      <th>0</th>\n",
       "      <td>0</td>\n",
       "      <td>90</td>\n",
       "      <td>BTC</td>\n",
       "      <td>Bitcoin</td>\n",
       "      <td>bitcoin</td>\n",
       "      <td>1</td>\n",
       "      <td>109151.430000</td>\n",
       "      <td>1.09</td>\n",
       "      <td>-0.12</td>\n",
       "      <td>1.52</td>\n",
       "      <td>1.000000</td>\n",
       "      <td>2.168465e+12</td>\n",
       "      <td>2.154889e+10</td>\n",
       "      <td>1.543365e+10</td>\n",
       "      <td>1.986658e+07</td>\n",
       "      <td>1.986658e+07</td>\n",
       "      <td>2.100000e+07</td>\n",
       "      <td>9.379175e+06</td>\n",
       "    </tr>\n",
       "    <tr>\n",
       "      <th>1</th>\n",
       "      <td>1</td>\n",
       "      <td>80</td>\n",
       "      <td>ETH</td>\n",
       "      <td>Ethereum</td>\n",
       "      <td>ethereum</td>\n",
       "      <td>2</td>\n",
       "      <td>2575.100000</td>\n",
       "      <td>2.50</td>\n",
       "      <td>-0.06</td>\n",
       "      <td>5.62</td>\n",
       "      <td>0.023591</td>\n",
       "      <td>3.102305e+11</td>\n",
       "      <td>1.190051e+10</td>\n",
       "      <td>7.453041e+09</td>\n",
       "      <td>1.204733e+08</td>\n",
       "      <td>1.223753e+08</td>\n",
       "      <td>NaN</td>\n",
       "      <td>2.212735e+05</td>\n",
       "    </tr>\n",
       "    <tr>\n",
       "      <th>2</th>\n",
       "      <td>2</td>\n",
       "      <td>518</td>\n",
       "      <td>USDT</td>\n",
       "      <td>Tether</td>\n",
       "      <td>tether</td>\n",
       "      <td>3</td>\n",
       "      <td>0.999977</td>\n",
       "      <td>-0.06</td>\n",
       "      <td>0.04</td>\n",
       "      <td>-0.05</td>\n",
       "      <td>0.000009</td>\n",
       "      <td>1.393266e+11</td>\n",
       "      <td>4.141934e+10</td>\n",
       "      <td>2.763040e+10</td>\n",
       "      <td>1.393299e+11</td>\n",
       "      <td>1.415730e+11</td>\n",
       "      <td>NaN</td>\n",
       "      <td>8.592612e+01</td>\n",
       "    </tr>\n",
       "    <tr>\n",
       "      <th>3</th>\n",
       "      <td>3</td>\n",
       "      <td>58</td>\n",
       "      <td>XRP</td>\n",
       "      <td>XRP</td>\n",
       "      <td>ripple</td>\n",
       "      <td>4</td>\n",
       "      <td>2.260000</td>\n",
       "      <td>1.97</td>\n",
       "      <td>-0.18</td>\n",
       "      <td>3.51</td>\n",
       "      <td>0.000021</td>\n",
       "      <td>1.305337e+11</td>\n",
       "      <td>2.027066e+09</td>\n",
       "      <td>9.503203e+08</td>\n",
       "      <td>5.764121e+10</td>\n",
       "      <td>9.998659e+10</td>\n",
       "      <td>1.000000e+11</td>\n",
       "      <td>1.941975e+02</td>\n",
       "    </tr>\n",
       "    <tr>\n",
       "      <th>4</th>\n",
       "      <td>4</td>\n",
       "      <td>2710</td>\n",
       "      <td>BNB</td>\n",
       "      <td>Binance Coin</td>\n",
       "      <td>binance-coin</td>\n",
       "      <td>5</td>\n",
       "      <td>661.080000</td>\n",
       "      <td>1.12</td>\n",
       "      <td>0.04</td>\n",
       "      <td>1.88</td>\n",
       "      <td>0.006056</td>\n",
       "      <td>1.102695e+11</td>\n",
       "      <td>8.264939e+08</td>\n",
       "      <td>6.238347e+08</td>\n",
       "      <td>1.668011e+08</td>\n",
       "      <td>1.924433e+08</td>\n",
       "      <td>2.000000e+08</td>\n",
       "      <td>5.680535e+04</td>\n",
       "    </tr>\n",
       "  </tbody>\n",
       "</table>\n",
       "</div>"
      ],
      "text/plain": [
       "   Unnamed: 0    id symbol          name        nameid  rank      price_usd  \\\n",
       "0           0    90    BTC       Bitcoin       bitcoin     1  109151.430000   \n",
       "1           1    80    ETH      Ethereum      ethereum     2    2575.100000   \n",
       "2           2   518   USDT        Tether        tether     3       0.999977   \n",
       "3           3    58    XRP           XRP        ripple     4       2.260000   \n",
       "4           4  2710    BNB  Binance Coin  binance-coin     5     661.080000   \n",
       "\n",
       "   percent_change_24h  percent_change_1h  percent_change_7d  price_btc  \\\n",
       "0                1.09              -0.12               1.52   1.000000   \n",
       "1                2.50              -0.06               5.62   0.023591   \n",
       "2               -0.06               0.04              -0.05   0.000009   \n",
       "3                1.97              -0.18               3.51   0.000021   \n",
       "4                1.12               0.04               1.88   0.006056   \n",
       "\n",
       "   market_cap_usd      volume24     volume24a       csupply       tsupply  \\\n",
       "0    2.168465e+12  2.154889e+10  1.543365e+10  1.986658e+07  1.986658e+07   \n",
       "1    3.102305e+11  1.190051e+10  7.453041e+09  1.204733e+08  1.223753e+08   \n",
       "2    1.393266e+11  4.141934e+10  2.763040e+10  1.393299e+11  1.415730e+11   \n",
       "3    1.305337e+11  2.027066e+09  9.503203e+08  5.764121e+10  9.998659e+10   \n",
       "4    1.102695e+11  8.264939e+08  6.238347e+08  1.668011e+08  1.924433e+08   \n",
       "\n",
       "        msupply           INR  \n",
       "0  2.100000e+07  9.379175e+06  \n",
       "1           NaN  2.212735e+05  \n",
       "2           NaN  8.592612e+01  \n",
       "3  1.000000e+11  1.941975e+02  \n",
       "4  2.000000e+08  5.680535e+04  "
      ]
     },
     "execution_count": 9,
     "metadata": {},
     "output_type": "execute_result"
    }
   ],
   "source": [
    "import requests\n",
    "\n",
    "resp = requests.get(\"https://free.ratesdb.com/v1/rates?from=USD&to=INR\")\n",
    "data = resp.json()\n",
    "rate = data[\"data\"][\"rates\"][\"INR\"]\n",
    "print(\"USD -> INR = \", rate)\n",
    "\n",
    "inrCoinfile = pd.read_csv(\"Livecoinprice.csv\")\n",
    "inrCoinfile['INR'] = inrCoinfile['price_usd'] * rate\n",
    "inrCoinfile.head() # Display first few rows\n"
   ]
  },
  {
   "cell_type": "code",
   "execution_count": 10,
   "id": "935a6bf1",
   "metadata": {},
   "outputs": [
    {
     "name": "stdout",
     "output_type": "stream",
     "text": [
      "Saved updated file as Livecoinprice_with_INR.csv\n"
     ]
    }
   ],
   "source": [
    "inrCoinfile.to_csv(\"Livecoinprice_with_INR.csv\", index=False)\n",
    "print(\"Saved updated file as Livecoinprice_with_INR.csv\")\n"
   ]
  },
  {
   "cell_type": "markdown",
   "id": "5d01590b",
   "metadata": {},
   "source": [
    "### ✅ Summary – Day 3 (4th July 2025)\n",
    "\n",
    "- Created DataFrames using pandas with custom row indexes.\n",
    "- Learned difference between `.loc[]` (label-based) and `.iloc[]` (position-based).\n",
    "- Loaded and explored data from CSV files.\n",
    "- Extracted specific player performance data using column and row access.\n",
    "- Practiced retrieving and printing precise values from tabular datasets."
   ]
  }
 ],
 "metadata": {
  "kernelspec": {
   "display_name": "Python 3 (ipykernel)",
   "language": "python",
   "name": "python3"
  },
  "language_info": {
   "codemirror_mode": {
    "name": "ipython",
    "version": 3
   },
   "file_extension": ".py",
   "mimetype": "text/x-python",
   "name": "python",
   "nbconvert_exporter": "python",
   "pygments_lexer": "ipython3",
   "version": "3.10.9"
  }
 },
 "nbformat": 4,
 "nbformat_minor": 5
}
