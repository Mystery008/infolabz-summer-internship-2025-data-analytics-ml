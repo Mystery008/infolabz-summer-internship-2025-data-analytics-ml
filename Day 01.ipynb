{
 "cells": [
  {
   "cell_type": "markdown",
   "id": "7c33ebce",
   "metadata": {},
   "source": [
    "### DAY 01: SUMMER INTERNSHIP 2025 - 02 JULY 2025\n",
    "\n",
    "Road Map : DATA SCIENCE\n",
    "\n",
    "1. Data Analysis\n",
    "2. Data Cleaning\n",
    "3. Data Preprocessing\n",
    "4. Data Visualization - Data Analyst\n",
    "\n",
    "5. Machine Learning - Ml Engineer\n",
    "\n",
    "6. Artificial Intelligence - AI Engineer\n",
    "\n",
    "7. Iot - Infrastructure (Costly)\n",
    "AI -> Robot / Self Driving Car - Sensors \n",
    "\n"
   ]
  },
  {
   "cell_type": "markdown",
   "id": "6d360606",
   "metadata": {},
   "source": [
    "#### DATA SOURCES\n",
    "\n",
    "1. Variable Data  : Not Recommended \n",
    "2. Text Data (Txt) : Not Recommended\n",
    "3. Csv/Excel Data :  Recommended\n",
    "4. Folder Data    :  Recommended\n",
    "5. Live Data/Api  :  Most Recommended"
   ]
  },
  {
   "cell_type": "markdown",
   "id": "6d29f5a0",
   "metadata": {},
   "source": [
    "#### Dictionary\n",
    "\n",
    "1. Curly Brackets\n",
    "2. Key (Left) : Value (Right)\n",
    "3. To access value Key is required"
   ]
  },
  {
   "cell_type": "code",
   "execution_count": 1,
   "id": "f81f0989",
   "metadata": {},
   "outputs": [
    {
     "name": "stdout",
     "output_type": "stream",
     "text": [
      "dict_keys(['Ahmedabad', 'Surat', 'Rajkot'])\n"
     ]
    }
   ],
   "source": [
    "mydata = { \"Ahmedabad\": [{\"date\": \"28 June 2025\",\"cases\": 15},\n",
    "                         {\"date\": \"29 June 2025\",\"cases\": 45},\n",
    "                         {\"date\": \"30 June 2025\",\"cases\": 35}\n",
    "                        ],\n",
    "          \"Surat\": [300,350,1],\n",
    "         \"Rajkot\": 400 \n",
    "         }\n",
    "# print all main keys\n",
    "\n",
    "print(mydata.keys())"
   ]
  },
  {
   "cell_type": "code",
   "execution_count": 2,
   "id": "aef84211",
   "metadata": {},
   "outputs": [
    {
     "name": "stdout",
     "output_type": "stream",
     "text": [
      "3\n"
     ]
    }
   ],
   "source": [
    "# print count of main keys\n",
    "\n",
    "print(len(mydata.keys()))"
   ]
  },
  {
   "cell_type": "code",
   "execution_count": 3,
   "id": "0e6c8748",
   "metadata": {},
   "outputs": [
    {
     "name": "stdout",
     "output_type": "stream",
     "text": [
      "400\n"
     ]
    }
   ],
   "source": [
    "# print 400\n",
    "print(mydata[\"Rajkot\"])"
   ]
  },
  {
   "cell_type": "code",
   "execution_count": 4,
   "id": "ba69a3a1",
   "metadata": {},
   "outputs": [
    {
     "name": "stdout",
     "output_type": "stream",
     "text": [
      "350\n"
     ]
    }
   ],
   "source": [
    "# print 350\n",
    "print(mydata[\"Surat\"][1])"
   ]
  },
  {
   "cell_type": "code",
   "execution_count": 5,
   "id": "72c6f24c",
   "metadata": {
    "scrolled": true
   },
   "outputs": [
    {
     "name": "stdout",
     "output_type": "stream",
     "text": [
      "35\n"
     ]
    }
   ],
   "source": [
    "# print 35\n",
    "print(mydata[\"Ahmedabad\"][2][\"cases\"])"
   ]
  },
  {
   "cell_type": "markdown",
   "id": "dba17384",
   "metadata": {},
   "source": [
    "### API / JSON : LIVE / SERVER DATA  <======> OFFLINE DATA : DICTIONARY \n",
    "\n",
    "#### ISRO : https://isro.vercel.app/api/spacecrafts\n"
   ]
  },
  {
   "cell_type": "code",
   "execution_count": 6,
   "id": "aa9a498a",
   "metadata": {
    "scrolled": true
   },
   "outputs": [
    {
     "name": "stdout",
     "output_type": "stream",
     "text": [
      "{'spacecrafts': [{'id': 1, 'name': 'Aryabhata'}, {'id': 2, 'name': 'Bhaskara-I'}, {'id': 3, 'name': 'Rohini Technology Payload (RTP)'}, {'id': 4, 'name': 'Rohini Satellite RS-1'}, {'id': 5, 'name': 'Rohini Satellite RS-D1'}, {'id': 6, 'name': 'APPLE'}, {'id': 7, 'name': 'Bhaskara-II'}, {'id': 8, 'name': 'INSAT-1A'}, {'id': 9, 'name': 'Rohini Satellite RS-D2'}, {'id': 10, 'name': 'INSAT-1B'}, {'id': 11, 'name': 'SROSS-1'}, {'id': 12, 'name': 'IRS-1A'}, {'id': 13, 'name': 'SROSS-2'}, {'id': 14, 'name': 'INSAT-1C'}, {'id': 15, 'name': 'INSAT-1D'}, {'id': 16, 'name': 'IRS-1B'}, {'id': 17, 'name': 'SROSS-C'}, {'id': 18, 'name': 'INSAT-2A'}, {'id': 19, 'name': 'INSAT-2B'}, {'id': 20, 'name': 'IRS-1E'}, {'id': 21, 'name': 'SROSS-C2'}, {'id': 22, 'name': 'IRS-P2'}, {'id': 23, 'name': 'INSAT-2C'}, {'id': 24, 'name': 'IRS-1C'}, {'id': 25, 'name': 'IRS-P3'}, {'id': 26, 'name': 'INSAT-2D'}, {'id': 27, 'name': 'IRS-1D'}, {'id': 28, 'name': 'INSAT-2E'}, {'id': 29, 'name': 'Oceansat(IRS-P4)'}, {'id': 30, 'name': 'INSAT-3B'}, {'id': 31, 'name': 'GSAT-1'}, {'id': 32, 'name': 'The Technology Experiment Satellite (TES)'}, {'id': 33, 'name': 'INSAT-3C'}, {'id': 34, 'name': 'KALPANA-1'}, {'id': 35, 'name': 'INSAT-3A'}, {'id': 36, 'name': 'GSAT-2'}, {'id': 37, 'name': 'INSAT-3E'}, {'id': 38, 'name': 'IRS-P6 / RESOURCESAT-1'}, {'id': 39, 'name': 'EDUSAT'}, {'id': 40, 'name': 'HAMSAT'}, {'id': 41, 'name': 'CARTOSAT-1'}, {'id': 42, 'name': 'INSAT-4A'}, {'id': 43, 'name': 'INSAT-4C'}, {'id': 44, 'name': 'SRE-1'}, {'id': 45, 'name': 'CARTOSAT-2'}, {'id': 46, 'name': 'INSAT-4B'}, {'id': 47, 'name': 'INSAT-4CR'}, {'id': 48, 'name': 'CARTOSAT – 2A'}, {'id': 49, 'name': 'IMS-1'}, {'id': 50, 'name': 'Chandrayaan-1'}, {'id': 51, 'name': 'RISAT-2'}, {'id': 52, 'name': 'Oceansat-2'}, {'id': 53, 'name': 'GSAT-4'}, {'id': 54, 'name': 'CARTOSAT-2B'}, {'id': 55, 'name': 'GSAT-5P'}, {'id': 56, 'name': 'YOUTHSAT'}, {'id': 57, 'name': 'RESOURCESAT-2'}, {'id': 58, 'name': 'GSAT-8'}, {'id': 59, 'name': 'GSAT-12'}, {'id': 60, 'name': 'Megha-Tropiques'}, {'id': 61, 'name': 'RISAT-1'}, {'id': 62, 'name': 'GSAT-10'}, {'id': 63, 'name': 'SARAL'}, {'id': 64, 'name': 'IRNSS-1A'}, {'id': 65, 'name': 'INSAT-3D'}, {'id': 66, 'name': 'GSAT-7'}, {'id': 67, 'name': 'Mars Orbiter Mission Spacecraft'}, {'id': 68, 'name': 'GSAT-14'}, {'id': 69, 'name': 'IRNSS-1B'}, {'id': 70, 'name': 'IRNSS-1C'}, {'id': 71, 'name': 'GSAT-16'}, {'id': 72, 'name': 'Crew module Atmospheric Re-entry Experiment (CARE)'}, {'id': 73, 'name': 'IRNSS-1D'}, {'id': 74, 'name': 'GSAT-6'}, {'id': 75, 'name': 'Astrosat'}, {'id': 76, 'name': 'GSAT-15'}, {'id': 77, 'name': 'IRNSS-1E'}, {'id': 78, 'name': 'IRNSS-1F'}, {'id': 79, 'name': 'IRNSS-1G'}, {'id': 80, 'name': 'CARTOSAT-2 Series Satellite'}, {'id': 81, 'name': 'INSAT-3DR'}, {'id': 82, 'name': 'SCATSAT-1'}, {'id': 83, 'name': 'GSAT-18'}, {'id': 84, 'name': 'RESOURCESAT-2A'}, {'id': 85, 'name': 'INS-1B'}, {'id': 86, 'name': 'INS-1A'}, {'id': 87, 'name': 'Cartosat -2 Series Satellite'}, {'id': 88, 'name': 'GSAT-9'}, {'id': 89, 'name': 'GSAT-19'}, {'id': 90, 'name': 'Cartosat-2 Series Satellite'}, {'id': 91, 'name': 'GSAT-17'}, {'id': 92, 'name': 'IRNSS-1H'}, {'id': 93, 'name': 'INS-1C'}, {'id': 94, 'name': 'Cartosat-2 Series Satellite'}, {'id': 95, 'name': 'Microsat'}, {'id': 96, 'name': 'GSAT-6A'}, {'id': 97, 'name': 'IRNSS-1I'}, {'id': 98, 'name': 'GSAT-29'}, {'id': 99, 'name': 'HysIS'}, {'id': 100, 'name': 'GSAT-11 Mission'}, {'id': 101, 'name': 'GSAT-7A'}, {'id': 102, 'name': 'Microsat-R'}, {'id': 103, 'name': 'GSAT-31'}, {'id': 104, 'name': 'EMISAT'}, {'id': 105, 'name': 'RISAT-2B'}, {'id': 106, 'name': 'Chandrayaan2'}, {'id': 107, 'name': 'Cartosat-3'}, {'id': 108, 'name': 'RISAT-2BR1'}, {'id': 109, 'name': 'GSAT-30'}, {'id': 110, 'name': 'EOS-01'}, {'id': 111, 'name': 'CMS-01'}, {'id': 112, 'name': 'EOS-03'}]}\n",
      "<class 'dict'>\n"
     ]
    }
   ],
   "source": [
    "import requests\n",
    "\n",
    "url = requests.get(\" https://isro.vercel.app/api/spacecrafts\")\n",
    "mydata = url.json()\n",
    "\n",
    "print(mydata)\n",
    "print(type(mydata))"
   ]
  },
  {
   "cell_type": "code",
   "execution_count": 7,
   "id": "66e764d9",
   "metadata": {},
   "outputs": [
    {
     "name": "stdout",
     "output_type": "stream",
     "text": [
      "Main keys in this isro API:  dict_keys(['spacecrafts'])\n",
      "Number of main keys:  1\n"
     ]
    }
   ],
   "source": [
    "# print main keys\n",
    "print(\"Main keys in this isro API: \", mydata.keys())\n",
    "\n",
    "# print number of main keys\n",
    "print(\"Number of main keys: \", len(mydata.keys()))"
   ]
  },
  {
   "cell_type": "code",
   "execution_count": 8,
   "id": "f99614ea",
   "metadata": {},
   "outputs": [
    {
     "name": "stdout",
     "output_type": "stream",
     "text": [
      "Aryabhata\n"
     ]
    }
   ],
   "source": [
    "# print Aryabhat\n",
    "\n",
    "print(mydata[\"spacecrafts\"][0][\"name\"])"
   ]
  },
  {
   "cell_type": "markdown",
   "id": "6f659e96",
   "metadata": {},
   "source": [
    "#### CRYPTO : https://api.coinlore.net/api/tickers/\n"
   ]
  },
  {
   "cell_type": "code",
   "execution_count": 9,
   "id": "13174d49",
   "metadata": {},
   "outputs": [
    {
     "name": "stdout",
     "output_type": "stream",
     "text": [
      "dict_keys(['data', 'info'])\n",
      "<class 'dict'>\n"
     ]
    }
   ],
   "source": [
    "url = requests.get(\"https://api.coinlore.net/api/tickers/\")\n",
    "mydata = url.json()\n",
    "\n",
    "print(mydata.keys())\n",
    "print(type(mydata))"
   ]
  },
  {
   "cell_type": "code",
   "execution_count": 10,
   "id": "68c18268",
   "metadata": {},
   "outputs": [
    {
     "name": "stdout",
     "output_type": "stream",
     "text": [
      "Real time Bitcoin Price: 108456.00\n"
     ]
    }
   ],
   "source": [
    "# print Bitcoin real time price\n",
    "\n",
    "print(\"Real time\", mydata[\"data\"][0][\"name\"],\"Price:\" ,mydata[\"data\"][0][\"price_usd\"])"
   ]
  },
  {
   "cell_type": "markdown",
   "id": "731faea4",
   "metadata": {},
   "source": [
    "## Home work\n",
    "\n",
    "1. Find 3 APIs and work out basic operations done during lecture.\n",
    " "
   ]
  },
  {
   "cell_type": "markdown",
   "id": "550cebd3",
   "metadata": {},
   "source": [
    "### 🐍Learn Python Dictionaries Using Free Public APIs\n",
    "\n",
    "Working with APIs is a practical way to master Python dictionaries. \n",
    "\n",
    "#### ✅Why Use APIs to Learn Python Dict?\n",
    "\n",
    "- 📦 Real-world data (not made-up examples)\n",
    "\n",
    "- 🧪 Practice with nesting, loops, and safe access\n",
    "\n",
    "- 🔓 Most APIs below require no API keys\n",
    "\n",
    "- 🧰 Helps with skills for data processing\n",
    "\n",
    "####  🔗 APIs Overview\n",
    "\n",
    "<table style=\"text-align: left; margin-left: 0;\">\n",
    "  <thead>\n",
    "    <tr>\n",
    "      <th>API Name</th>\n",
    "      <th>URL</th>\n",
    "      <th>Domain</th>\n",
    "    </tr>\n",
    "  </thead>\n",
    "  <tbody>\n",
    "    <tr>\n",
    "      <td>JSONPlaceholder</td>\n",
    "      <td><a href=\"https://jsonplaceholder.typicode.com/users\" target=\"_blank\">https://jsonplaceholder.typicode.com/users</a></td>\n",
    "      <td>Fake Users</td>\n",
    "    </tr>\n",
    "    <tr>\n",
    "      <td>PokéAPI</td>\n",
    "      <td><a href=\"https://pokeapi.co/api/v2/pokemon/ditto\" target=\"_blank\">https://pokeapi.co/api/v2/pokemon/ditto</a></td>\n",
    "      <td>Pokémon</td>\n",
    "    </tr>\n",
    "    <tr>\n",
    "      <td>Cat Facts</td>\n",
    "      <td><a href=\"https://catfact.ninja/facts\" target=\"_blank\">https://catfact.ninja/facts</a></td>\n",
    "      <td>Fun/Trivia</td>\n",
    "    </tr>\n",
    "  </tbody>\n",
    "</table>"
   ]
  },
  {
   "cell_type": "code",
   "execution_count": 11,
   "id": "72bb034b",
   "metadata": {
    "scrolled": true
   },
   "outputs": [
    {
     "name": "stdout",
     "output_type": "stream",
     "text": [
      "<class 'list'>\n",
      "\n",
      "Main keys are:  dict_keys(['id', 'name', 'username', 'email', 'address', 'phone', 'website', 'company'])\n",
      "8\n",
      "\n",
      "Gwenborough\n",
      "\n",
      "Leanne Graham - Sincere@april.biz\n",
      "Ervin Howell - Shanna@melissa.tv\n",
      "Clementine Bauch - Nathan@yesenia.net\n",
      "\n"
     ]
    }
   ],
   "source": [
    "# 1. JSONPlaceholder (Fake Users)\n",
    "\n",
    "users = requests.get(\"https://jsonplaceholder.typicode.com/users\").json()\n",
    "\n",
    "# print data \n",
    "# print(users)\n",
    "\n",
    "# print datatype\n",
    "print(type(users))\n",
    "print()\n",
    "\n",
    "# print main keys\n",
    "print(\"Main keys are: \",users[0].keys())\n",
    "\n",
    "# print number of main keys\n",
    "print(len(users[0].keys()))\n",
    "print()\n",
    "\n",
    "# Access nested dictionary keys\n",
    "print(users[0]['address']['city'])\n",
    "print()\n",
    "\n",
    "# Iterate over list of dicts\n",
    "for user in users[:3]:\n",
    "    print(user['name'], \"-\", user['email'])\n",
    "    \n",
    "print()\n"
   ]
  },
  {
   "cell_type": "code",
   "execution_count": 12,
   "id": "c92254f0",
   "metadata": {},
   "outputs": [
    {
     "name": "stdout",
     "output_type": "stream",
     "text": [
      "<class 'dict'>\n",
      "Main keys are:  dict_keys(['abilities', 'base_experience', 'cries', 'forms', 'game_indices', 'height', 'held_items', 'id', 'is_default', 'location_area_encounters', 'moves', 'name', 'order', 'past_abilities', 'past_types', 'species', 'sprites', 'stats', 'types', 'weight'])\n",
      "20\n",
      "limber\n",
      "imposter\n"
     ]
    }
   ],
   "source": [
    "# 2. PokéAPI (Pokémon Data)\n",
    "\n",
    "poke = requests.get(\"https://pokeapi.co/api/v2/pokemon/ditto\").json()\n",
    "\n",
    "# print data\n",
    "# print(poke)\n",
    "\n",
    "# print datatype\n",
    "print(type(poke))\n",
    "\n",
    "# print main keys\n",
    "print(\"Main keys are: \", poke.keys())\n",
    "\n",
    "# print number of main keys\n",
    "print(len(poke.keys()))\n",
    "\n",
    "# Iterate through list of dicts (abilities)\n",
    "for ability in poke['abilities']:\n",
    "    print(ability['ability']['name'])\n",
    "\n"
   ]
  },
  {
   "cell_type": "code",
   "execution_count": 13,
   "id": "78e6ae56",
   "metadata": {},
   "outputs": [
    {
     "name": "stdout",
     "output_type": "stream",
     "text": [
      "<class 'dict'>\n",
      "Main keys are:  dict_keys(['current_page', 'data', 'first_page_url', 'from', 'last_page', 'last_page_url', 'links', 'next_page_url', 'path', 'per_page', 'prev_page_url', 'to', 'total'])\n",
      "13\n",
      "Unlike dogs, cats do not have a sweet tooth. Scientists believe this is due to a mutation in a key taste receptor.\n",
      "When a cat chases its prey, it keeps its head level. Dogs and humans bob their heads up and down.\n",
      "The technical term for a cat’s hairball is a “bezoar.”\n",
      "\n"
     ]
    }
   ],
   "source": [
    "# Cat Facts (Fun Facts)\n",
    "\n",
    "facts = requests.get(\"https://catfact.ninja/facts\").json()\n",
    "\n",
    "# print data\n",
    "# print(facts)\n",
    "\n",
    "# print datatype\n",
    "print(type(facts))\n",
    "\n",
    "# print main keys\n",
    "print(\"Main keys are: \", facts.keys())\n",
    "\n",
    "#print number of keys\n",
    "print(len(facts.keys()))\n",
    "\n",
    "# Iterate over list of dicts\n",
    "for fact in facts['data'][:3]:\n",
    "    print(fact['fact'])\n",
    "\n",
    "print()\n"
   ]
  },
  {
   "cell_type": "markdown",
   "id": "36cbb17e",
   "metadata": {},
   "source": [
    "### Summary:\n",
    "- Understood different data types and sources\n",
    "- Practiced dictionary operations in Python\n",
    "- Explored a basic roadmap of Data Science\n"
   ]
  }
 ],
 "metadata": {
  "kernelspec": {
   "display_name": "Python 3 (ipykernel)",
   "language": "python",
   "name": "python3"
  },
  "language_info": {
   "codemirror_mode": {
    "name": "ipython",
    "version": 3
   },
   "file_extension": ".py",
   "mimetype": "text/x-python",
   "name": "python",
   "nbconvert_exporter": "python",
   "pygments_lexer": "ipython3",
   "version": "3.10.9"
  }
 },
 "nbformat": 4,
 "nbformat_minor": 5
}
